{
  "nbformat": 4,
  "nbformat_minor": 0,
  "metadata": {
    "colab": {
      "name": "Lego Classifier 2.ipynb",
      "provenance": [],
      "mount_file_id": "1IyeEbcx2adQcybAWPnYbRSyURrALs2f8",
      "authorship_tag": "ABX9TyNI6PRjvSThUTtIm1VFDmR+",
      "include_colab_link": true
    },
    "kernelspec": {
      "name": "python3",
      "display_name": "Python 3"
    },
    "language_info": {
      "name": "python"
    },
    "accelerator": "GPU"
  },
  "cells": [
    {
      "cell_type": "markdown",
      "metadata": {
        "id": "view-in-github",
        "colab_type": "text"
      },
      "source": [
        "<a href=\"https://colab.research.google.com/github/D3rpyDolphin/Lego-Custom-Dataset/blob/master/object_detection_model.ipynb\" target=\"_parent\"><img src=\"https://colab.research.google.com/assets/colab-badge.svg\" alt=\"Open In Colab\"/></a>"
      ]
    },
    {
      "cell_type": "code",
      "execution_count": null,
      "metadata": {
        "colab": {
          "base_uri": "https://localhost:8080/"
        },
        "id": "Dp6doq4PeAO8",
        "outputId": "dd58888c-2874-49b4-dba4-802264835da1"
      },
      "outputs": [
        {
          "output_type": "stream",
          "name": "stdout",
          "text": [
            "\u001b[K     |████████████████████████████████| 616 kB 5.3 MB/s \n",
            "\u001b[K     |████████████████████████████████| 840 kB 28.0 MB/s \n",
            "\u001b[K     |████████████████████████████████| 1.1 MB 37.1 MB/s \n",
            "\u001b[K     |████████████████████████████████| 1.1 MB 36.7 MB/s \n",
            "\u001b[K     |████████████████████████████████| 6.4 MB 37.1 MB/s \n",
            "\u001b[K     |████████████████████████████████| 3.4 MB 38.3 MB/s \n",
            "\u001b[K     |████████████████████████████████| 77 kB 2.9 MB/s \n",
            "\u001b[K     |████████████████████████████████| 596 kB 37.7 MB/s \n",
            "\u001b[K     |████████████████████████████████| 120 kB 36.5 MB/s \n",
            "\u001b[K     |████████████████████████████████| 87 kB 5.6 MB/s \n",
            "\u001b[K     |████████████████████████████████| 1.2 MB 31.3 MB/s \n",
            "\u001b[K     |████████████████████████████████| 237 kB 22.9 MB/s \n",
            "\u001b[K     |████████████████████████████████| 25.3 MB 43.8 MB/s \n",
            "\u001b[K     |████████████████████████████████| 47.8 MB 1.6 MB/s \n",
            "\u001b[K     |████████████████████████████████| 352 kB 52.5 MB/s \n",
            "\u001b[K     |████████████████████████████████| 99 kB 548 kB/s \n",
            "\u001b[K     |████████████████████████████████| 462 kB 51.0 MB/s \n",
            "\u001b[K     |████████████████████████████████| 213 kB 46.4 MB/s \n",
            "\u001b[?25h  Building wheel for fire (setup.py) ... \u001b[?25l\u001b[?25hdone\n",
            "  Building wheel for py-cpuinfo (setup.py) ... \u001b[?25l\u001b[?25hdone\n"
          ]
        }
      ],
      "source": [
        "!pip install -q tflite-model-maker\n",
        "!pip install -q pycocotools"
      ]
    },
    {
      "cell_type": "code",
      "source": [
        "import numpy as np\n",
        "import os\n",
        "import matplotlib.pyplot as plt\n",
        "\n",
        "from tflite_model_maker.config import QuantizationConfig\n",
        "from tflite_model_maker.config import ExportFormat\n",
        "from tflite_model_maker import model_spec\n",
        "from tflite_model_maker import object_detector\n",
        "\n",
        "import tensorflow as tf"
      ],
      "metadata": {
        "id": "2rWLyJOFeUdu"
      },
      "execution_count": null,
      "outputs": []
    },
    {
      "cell_type": "code",
      "source": [
        "spec = model_spec.get('efficientdet_lite0')"
      ],
      "metadata": {
        "id": "V2pDleQ_er45"
      },
      "execution_count": null,
      "outputs": []
    },
    {
      "cell_type": "code",
      "source": [
        "image_dir = '/content/drive/Othercomputers/My Laptop/Lego Custom Dataset/images'  \n",
        "annotations_dir = '/content/drive/Othercomputers/My Laptop/Lego Custom Dataset/annotations' \n",
        "label_list = [\"3023\", \"3024\", \"3004\"]\n",
        "\n",
        "\n",
        "data = object_detector.DataLoader.from_pascal_voc(image_dir, annotations_dir, label_map=label_list)\n",
        "# train_data, rest_data = data.split(0.8)\n",
        "# validation_data, test_data = rest_data.split(0.5)"
      ],
      "metadata": {
        "id": "djzQ75aYeu56",
        "colab": {
          "base_uri": "https://localhost:8080/"
        },
        "outputId": "c0ea93d6-a07f-4f5a-de09-fd1433a1599b"
      },
      "execution_count": null,
      "outputs": [
        {
          "output_type": "stream",
          "name": "stdout",
          "text": [
            "INFO:tensorflow:Cache will be stored in /tmp/tmp3kdo5bxs with prefix filename fd2c112752054ea1fcebcf49d7779205. Cache_prefix is /tmp/tmp3kdo5bxs/fd2c112752054ea1fcebcf49d7779205\n",
            "INFO:tensorflow:On image 0\n"
          ]
        }
      ]
    },
    {
      "cell_type": "code",
      "source": [
        "model = object_detector.create(data, model_spec=spec, batch_size=8, train_whole_model=True, validation_data=None)"
      ],
      "metadata": {
        "id": "BFuRfa2Je0bC",
        "colab": {
          "base_uri": "https://localhost:8080/"
        },
        "outputId": "611ac194-8a0b-4cf7-a6c6-7e49bf5adf5f"
      },
      "execution_count": null,
      "outputs": [
        {
          "output_type": "stream",
          "name": "stdout",
          "text": [
            "Epoch 1/50\n",
            "6/6 [==============================] - 41s 511ms/step - det_loss: 1.8484 - cls_loss: 1.1395 - box_loss: 0.0142 - reg_l2_loss: 0.0632 - loss: 1.9115 - learning_rate: 0.0090 - gradient_norm: 1.0201\n",
            "Epoch 2/50\n",
            "6/6 [==============================] - 2s 408ms/step - det_loss: 1.7778 - cls_loss: 1.1311 - box_loss: 0.0129 - reg_l2_loss: 0.0632 - loss: 1.8410 - learning_rate: 0.0100 - gradient_norm: 1.0759\n",
            "Epoch 3/50\n",
            "6/6 [==============================] - 2s 413ms/step - det_loss: 1.7533 - cls_loss: 1.1162 - box_loss: 0.0127 - reg_l2_loss: 0.0632 - loss: 1.8164 - learning_rate: 0.0099 - gradient_norm: 1.3623\n",
            "Epoch 4/50\n",
            "6/6 [==============================] - 2s 415ms/step - det_loss: 1.6014 - cls_loss: 1.0821 - box_loss: 0.0104 - reg_l2_loss: 0.0632 - loss: 1.6646 - learning_rate: 0.0099 - gradient_norm: 1.2549\n",
            "Epoch 5/50\n",
            "6/6 [==============================] - 3s 517ms/step - det_loss: 1.4864 - cls_loss: 1.0307 - box_loss: 0.0091 - reg_l2_loss: 0.0632 - loss: 1.5495 - learning_rate: 0.0098 - gradient_norm: 1.4414\n",
            "Epoch 6/50\n",
            "6/6 [==============================] - 2s 418ms/step - det_loss: 1.4038 - cls_loss: 0.9222 - box_loss: 0.0096 - reg_l2_loss: 0.0632 - loss: 1.4669 - learning_rate: 0.0097 - gradient_norm: 1.9480\n",
            "Epoch 7/50\n",
            "6/6 [==============================] - 2s 432ms/step - det_loss: 1.2422 - cls_loss: 0.8354 - box_loss: 0.0081 - reg_l2_loss: 0.0632 - loss: 1.3054 - learning_rate: 0.0096 - gradient_norm: 1.7781\n",
            "Epoch 8/50\n",
            "6/6 [==============================] - 2s 415ms/step - det_loss: 1.2108 - cls_loss: 0.7567 - box_loss: 0.0091 - reg_l2_loss: 0.0632 - loss: 1.2739 - learning_rate: 0.0094 - gradient_norm: 1.8577\n",
            "Epoch 9/50\n",
            "6/6 [==============================] - 3s 511ms/step - det_loss: 1.0581 - cls_loss: 0.6828 - box_loss: 0.0075 - reg_l2_loss: 0.0632 - loss: 1.1213 - learning_rate: 0.0093 - gradient_norm: 1.5545\n",
            "Epoch 10/50\n",
            "6/6 [==============================] - 2s 418ms/step - det_loss: 0.9300 - cls_loss: 0.6088 - box_loss: 0.0064 - reg_l2_loss: 0.0632 - loss: 0.9932 - learning_rate: 0.0091 - gradient_norm: 1.8585\n",
            "Epoch 11/50\n",
            "6/6 [==============================] - 2s 424ms/step - det_loss: 0.9878 - cls_loss: 0.6138 - box_loss: 0.0075 - reg_l2_loss: 0.0632 - loss: 1.0510 - learning_rate: 0.0089 - gradient_norm: 2.5117\n",
            "Epoch 12/50\n",
            "6/6 [==============================] - 2s 428ms/step - det_loss: 0.8745 - cls_loss: 0.5627 - box_loss: 0.0062 - reg_l2_loss: 0.0632 - loss: 0.9377 - learning_rate: 0.0087 - gradient_norm: 2.3220\n",
            "Epoch 13/50\n",
            "6/6 [==============================] - 3s 515ms/step - det_loss: 0.8467 - cls_loss: 0.5091 - box_loss: 0.0068 - reg_l2_loss: 0.0632 - loss: 0.9099 - learning_rate: 0.0085 - gradient_norm: 2.3820\n",
            "Epoch 14/50\n",
            "6/6 [==============================] - 2s 423ms/step - det_loss: 0.7248 - cls_loss: 0.4725 - box_loss: 0.0050 - reg_l2_loss: 0.0632 - loss: 0.7880 - learning_rate: 0.0082 - gradient_norm: 1.8620\n",
            "Epoch 15/50\n",
            "6/6 [==============================] - 2s 414ms/step - det_loss: 0.7329 - cls_loss: 0.4617 - box_loss: 0.0054 - reg_l2_loss: 0.0632 - loss: 0.7961 - learning_rate: 0.0080 - gradient_norm: 1.9897\n",
            "Epoch 16/50\n",
            "6/6 [==============================] - 2s 421ms/step - det_loss: 0.6832 - cls_loss: 0.4507 - box_loss: 0.0046 - reg_l2_loss: 0.0632 - loss: 0.7464 - learning_rate: 0.0077 - gradient_norm: 1.7800\n",
            "Epoch 17/50\n",
            "6/6 [==============================] - 2s 440ms/step - det_loss: 0.6982 - cls_loss: 0.4554 - box_loss: 0.0049 - reg_l2_loss: 0.0632 - loss: 0.7614 - learning_rate: 0.0075 - gradient_norm: 2.4102\n",
            "Epoch 18/50\n",
            "6/6 [==============================] - 3s 530ms/step - det_loss: 0.6687 - cls_loss: 0.4421 - box_loss: 0.0045 - reg_l2_loss: 0.0632 - loss: 0.7319 - learning_rate: 0.0072 - gradient_norm: 2.0557\n",
            "Epoch 19/50\n",
            "6/6 [==============================] - 2s 421ms/step - det_loss: 0.6007 - cls_loss: 0.4086 - box_loss: 0.0038 - reg_l2_loss: 0.0632 - loss: 0.6639 - learning_rate: 0.0069 - gradient_norm: 1.6555\n",
            "Epoch 20/50\n",
            "6/6 [==============================] - 2s 421ms/step - det_loss: 0.6175 - cls_loss: 0.4171 - box_loss: 0.0040 - reg_l2_loss: 0.0632 - loss: 0.6807 - learning_rate: 0.0066 - gradient_norm: 1.9404\n",
            "Epoch 21/50\n",
            "6/6 [==============================] - 2s 415ms/step - det_loss: 0.6269 - cls_loss: 0.4068 - box_loss: 0.0044 - reg_l2_loss: 0.0632 - loss: 0.6901 - learning_rate: 0.0063 - gradient_norm: 1.7648\n",
            "Epoch 22/50\n",
            "6/6 [==============================] - 3s 512ms/step - det_loss: 0.5594 - cls_loss: 0.3822 - box_loss: 0.0035 - reg_l2_loss: 0.0632 - loss: 0.6226 - learning_rate: 0.0060 - gradient_norm: 1.6330\n",
            "Epoch 23/50\n",
            "6/6 [==============================] - 2s 416ms/step - det_loss: 0.5644 - cls_loss: 0.3829 - box_loss: 0.0036 - reg_l2_loss: 0.0632 - loss: 0.6276 - learning_rate: 0.0056 - gradient_norm: 1.9080\n",
            "Epoch 24/50\n",
            "6/6 [==============================] - 2s 431ms/step - det_loss: 0.5872 - cls_loss: 0.4001 - box_loss: 0.0037 - reg_l2_loss: 0.0632 - loss: 0.6504 - learning_rate: 0.0053 - gradient_norm: 2.2191\n",
            "Epoch 25/50\n",
            "6/6 [==============================] - 2s 409ms/step - det_loss: 0.5618 - cls_loss: 0.3797 - box_loss: 0.0036 - reg_l2_loss: 0.0632 - loss: 0.6251 - learning_rate: 0.0050 - gradient_norm: 1.9237\n",
            "Epoch 26/50\n",
            "6/6 [==============================] - 3s 516ms/step - det_loss: 0.6038 - cls_loss: 0.3947 - box_loss: 0.0042 - reg_l2_loss: 0.0632 - loss: 0.6670 - learning_rate: 0.0047 - gradient_norm: 2.0386\n",
            "Epoch 27/50\n",
            "6/6 [==============================] - 2s 433ms/step - det_loss: 0.5223 - cls_loss: 0.3669 - box_loss: 0.0031 - reg_l2_loss: 0.0632 - loss: 0.5855 - learning_rate: 0.0044 - gradient_norm: 1.7034\n",
            "Epoch 28/50\n",
            "6/6 [==============================] - 2s 438ms/step - det_loss: 0.5581 - cls_loss: 0.3878 - box_loss: 0.0034 - reg_l2_loss: 0.0632 - loss: 0.6213 - learning_rate: 0.0041 - gradient_norm: 2.0900\n",
            "Epoch 29/50\n",
            "6/6 [==============================] - 2s 410ms/step - det_loss: 0.5479 - cls_loss: 0.3808 - box_loss: 0.0033 - reg_l2_loss: 0.0632 - loss: 0.6111 - learning_rate: 0.0037 - gradient_norm: 1.9237\n",
            "Epoch 30/50\n",
            "6/6 [==============================] - 3s 521ms/step - det_loss: 0.5023 - cls_loss: 0.3525 - box_loss: 0.0030 - reg_l2_loss: 0.0632 - loss: 0.5656 - learning_rate: 0.0034 - gradient_norm: 1.9390\n",
            "Epoch 31/50\n",
            "6/6 [==============================] - 2s 433ms/step - det_loss: 0.4843 - cls_loss: 0.3439 - box_loss: 0.0028 - reg_l2_loss: 0.0632 - loss: 0.5476 - learning_rate: 0.0031 - gradient_norm: 1.7133\n",
            "Epoch 32/50\n",
            "6/6 [==============================] - 2s 427ms/step - det_loss: 0.5185 - cls_loss: 0.3657 - box_loss: 0.0031 - reg_l2_loss: 0.0632 - loss: 0.5818 - learning_rate: 0.0028 - gradient_norm: 1.7894\n",
            "Epoch 33/50\n",
            "6/6 [==============================] - 2s 421ms/step - det_loss: 0.5413 - cls_loss: 0.3713 - box_loss: 0.0034 - reg_l2_loss: 0.0632 - loss: 0.6045 - learning_rate: 0.0026 - gradient_norm: 1.9906\n",
            "Epoch 34/50\n",
            "6/6 [==============================] - 2s 409ms/step - det_loss: 0.5019 - cls_loss: 0.3546 - box_loss: 0.0029 - reg_l2_loss: 0.0632 - loss: 0.5651 - learning_rate: 0.0023 - gradient_norm: 1.9793\n",
            "Epoch 35/50\n",
            "6/6 [==============================] - 3s 529ms/step - det_loss: 0.4975 - cls_loss: 0.3557 - box_loss: 0.0028 - reg_l2_loss: 0.0632 - loss: 0.5608 - learning_rate: 0.0020 - gradient_norm: 1.8608\n",
            "Epoch 36/50\n",
            "6/6 [==============================] - 2s 413ms/step - det_loss: 0.4993 - cls_loss: 0.3552 - box_loss: 0.0029 - reg_l2_loss: 0.0632 - loss: 0.5625 - learning_rate: 0.0018 - gradient_norm: 1.6192\n",
            "Epoch 37/50\n",
            "6/6 [==============================] - 2s 422ms/step - det_loss: 0.5101 - cls_loss: 0.3631 - box_loss: 0.0029 - reg_l2_loss: 0.0632 - loss: 0.5734 - learning_rate: 0.0015 - gradient_norm: 2.1863\n",
            "Epoch 38/50\n",
            "6/6 [==============================] - 2s 429ms/step - det_loss: 0.4873 - cls_loss: 0.3503 - box_loss: 0.0027 - reg_l2_loss: 0.0632 - loss: 0.5505 - learning_rate: 0.0013 - gradient_norm: 1.6128\n",
            "Epoch 39/50\n",
            "6/6 [==============================] - 3s 511ms/step - det_loss: 0.4976 - cls_loss: 0.3516 - box_loss: 0.0029 - reg_l2_loss: 0.0632 - loss: 0.5609 - learning_rate: 0.0011 - gradient_norm: 1.8767\n",
            "Epoch 40/50\n",
            "6/6 [==============================] - 2s 446ms/step - det_loss: 0.4953 - cls_loss: 0.3632 - box_loss: 0.0026 - reg_l2_loss: 0.0632 - loss: 0.5585 - learning_rate: 9.0427e-04 - gradient_norm: 1.7353\n",
            "Epoch 41/50\n",
            "6/6 [==============================] - 2s 422ms/step - det_loss: 0.4932 - cls_loss: 0.3608 - box_loss: 0.0026 - reg_l2_loss: 0.0632 - loss: 0.5565 - learning_rate: 7.2904e-04 - gradient_norm: 1.6177\n",
            "Epoch 42/50\n",
            "6/6 [==============================] - 2s 422ms/step - det_loss: 0.4689 - cls_loss: 0.3414 - box_loss: 0.0026 - reg_l2_loss: 0.0632 - loss: 0.5322 - learning_rate: 5.7136e-04 - gradient_norm: 1.5935\n",
            "Epoch 43/50\n",
            "6/6 [==============================] - 3s 512ms/step - det_loss: 0.4669 - cls_loss: 0.3451 - box_loss: 0.0024 - reg_l2_loss: 0.0632 - loss: 0.5301 - learning_rate: 4.3188e-04 - gradient_norm: 1.7626\n",
            "Epoch 44/50\n",
            "6/6 [==============================] - 2s 431ms/step - det_loss: 0.4850 - cls_loss: 0.3515 - box_loss: 0.0027 - reg_l2_loss: 0.0632 - loss: 0.5482 - learning_rate: 3.1117e-04 - gradient_norm: 1.9012\n",
            "Epoch 45/50\n",
            "6/6 [==============================] - 2s 441ms/step - det_loss: 0.4613 - cls_loss: 0.3369 - box_loss: 0.0025 - reg_l2_loss: 0.0632 - loss: 0.5246 - learning_rate: 2.0973e-04 - gradient_norm: 1.6969\n",
            "Epoch 46/50\n",
            "6/6 [==============================] - 2s 420ms/step - det_loss: 0.4953 - cls_loss: 0.3457 - box_loss: 0.0030 - reg_l2_loss: 0.0632 - loss: 0.5585 - learning_rate: 1.2797e-04 - gradient_norm: 1.8723\n",
            "Epoch 47/50\n",
            "6/6 [==============================] - 3s 534ms/step - det_loss: 0.5006 - cls_loss: 0.3556 - box_loss: 0.0029 - reg_l2_loss: 0.0632 - loss: 0.5639 - learning_rate: 6.6235e-05 - gradient_norm: 1.6746\n",
            "Epoch 48/50\n",
            "6/6 [==============================] - 2s 438ms/step - det_loss: 0.4867 - cls_loss: 0.3534 - box_loss: 0.0027 - reg_l2_loss: 0.0632 - loss: 0.5500 - learning_rate: 2.4771e-05 - gradient_norm: 2.0099\n",
            "Epoch 49/50\n",
            "6/6 [==============================] - 2s 427ms/step - det_loss: 0.4810 - cls_loss: 0.3448 - box_loss: 0.0027 - reg_l2_loss: 0.0632 - loss: 0.5442 - learning_rate: 3.7509e-06 - gradient_norm: 1.6938\n",
            "Epoch 50/50\n",
            "6/6 [==============================] - 2s 418ms/step - det_loss: 0.5233 - cls_loss: 0.3643 - box_loss: 0.0032 - reg_l2_loss: 0.0632 - loss: 0.5866 - learning_rate: 3.2617e-06 - gradient_norm: 2.0689\n"
          ]
        }
      ]
    },
    {
      "cell_type": "code",
      "source": [
        "model.evaluate(train_data)"
      ],
      "metadata": {
        "id": "30wBsbIWe2QC",
        "colab": {
          "base_uri": "https://localhost:8080/"
        },
        "outputId": "eb6842ea-faef-4d21-a821-980927c00461"
      },
      "execution_count": null,
      "outputs": [
        {
          "output_type": "stream",
          "name": "stdout",
          "text": [
            "\r1/1 [==============================] - 10s 10s/step\n",
            "\n"
          ]
        },
        {
          "output_type": "execute_result",
          "data": {
            "text/plain": [
              "{'AP': 0.50266886,\n",
              " 'AP50': 0.73090047,\n",
              " 'AP75': 0.6202966,\n",
              " 'AP_/3004': 0.43779168,\n",
              " 'AP_/3023': 0.6268814,\n",
              " 'AP_/3024': 0.44333345,\n",
              " 'APl': -1.0,\n",
              " 'APm': 0.46646073,\n",
              " 'APs': 0.5008581,\n",
              " 'ARl': -1.0,\n",
              " 'ARm': 0.731746,\n",
              " 'ARmax1': 0.38598147,\n",
              " 'ARmax10': 0.7064352,\n",
              " 'ARmax100': 0.7143657,\n",
              " 'ARs': 0.705316}"
            ]
          },
          "metadata": {},
          "execution_count": 9
        }
      ]
    }
  ]
}